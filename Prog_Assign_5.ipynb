{
 "cells": [
  {
   "cell_type": "code",
   "execution_count": 3,
   "id": "5b75d4a5",
   "metadata": {},
   "outputs": [
    {
     "name": "stdout",
     "output_type": "stream",
     "text": [
      "Enter 1st Num : 12\n",
      "Enter 2nd Num : 14\n",
      "LCM of 12 and 14 is 84\n"
     ]
    }
   ],
   "source": [
    "#(1):-Python Program to Find LCM.\n",
    "\n",
    "num1 = int(input(\"Enter 1st Num : \"))\n",
    "num2 = int(input(\"Enter 2nd Num : \"))\n",
    "for i in range(max(num1, num2), 1 + (num1 * num2), max(num1, num2)):\n",
    "    if i % num1 == i % num2 == 0:\n",
    "        lcm = i\n",
    "        break\n",
    "\n",
    "print(\"LCM of\", num1, \"and\", num2, \"is\", lcm)"
   ]
  },
  {
   "cell_type": "code",
   "execution_count": 4,
   "id": "74ea9a8e",
   "metadata": {},
   "outputs": [
    {
     "name": "stdout",
     "output_type": "stream",
     "text": [
      "Enter 1st Num : 10\n",
      "Enter 2nd Num : 20\n",
      "Hcf of 10 and 20 is 10\n"
     ]
    }
   ],
   "source": [
    "#(2):-Python Program to Find HCF.\n",
    "\n",
    "num1 = int(input(\"Enter 1st Num : \"))\n",
    "num2 = int(input(\"Enter 2nd Num : \"))\n",
    "a = num1\n",
    "b = num2\n",
    "\n",
    "while num1 != num2:\n",
    "    if num1 > num2:\n",
    "        num1 -= num2\n",
    "    else:\n",
    "        num2 -= num1\n",
    "\n",
    "print(\"Hcf of\", a, \"and\", b, \"is\", num1)"
   ]
  },
  {
   "cell_type": "code",
   "execution_count": 7,
   "id": "d45f29b5",
   "metadata": {},
   "outputs": [
    {
     "name": "stdout",
     "output_type": "stream",
     "text": [
      "Enter Dec Num : 133\n",
      "The decimal value of 133 is:\n",
      "Binary :  0b10000101\n",
      " Octal :  0o205\n",
      "Hexadecimal :  0x85\n"
     ]
    }
   ],
   "source": [
    "#(3):-Python Program to Convert Decimal to Binary, Octal and Hexadecimal.\n",
    "\n",
    "dec = int(input(\"Enter Dec Num : \"))\n",
    "\n",
    "print(\"The decimal value of\", dec, \"is:\")\n",
    "print( \"Binary : \", bin(dec))\n",
    "print(\" Octal : \",oct(dec) )\n",
    "print(\"Hexadecimal : \",hex(dec))"
   ]
  },
  {
   "cell_type": "code",
   "execution_count": 13,
   "id": "f4645d64",
   "metadata": {},
   "outputs": [
    {
     "name": "stdout",
     "output_type": "stream",
     "text": [
      "Enter the Char whose ASCII code needs to be found:a\n",
      "The ASCII value of given character is 97\n"
     ]
    }
   ],
   "source": [
    "#(4):-Python Program To Find ASCII value of a character.\n",
    "\n",
    "c = input ('Enter the Char whose ASCII code needs to be found:')\n",
    "\n",
    "print (\"The ASCII value of given character is\", ord (c ))"
   ]
  },
  {
   "cell_type": "code",
   "execution_count": 15,
   "id": "c5e645c8",
   "metadata": {},
   "outputs": [
    {
     "name": "stdout",
     "output_type": "stream",
     "text": [
      "please Select the Operation you  want to Perfom\n",
      "      1 = Add\n",
      "      2 = Subtract\n",
      "      3 = Multiply\n",
      "      4 = Divide\n",
      "Choose Operation from 1, 2, 3, 4 = 1\n",
      "First Number = 1\n",
      "Second Number = 1\n",
      "1  +  1   =   2\n"
     ]
    }
   ],
   "source": [
    "#(5):-Python Program to Make a Simple Calculator with 4 basic mathematical operations.\n",
    "\n",
    "print('''please Select the Operation you  want to Perfom\n",
    "      1 = Add\n",
    "      2 = Subtract\n",
    "      3 = Multiply\n",
    "      4 = Divide''')\n",
    "      \n",
    "opt = int(input(\"Choose Operation from 1, 2, 3, 4 = \"))\n",
    "\n",
    "n1 = int(input(\"First Number = \"))\n",
    "n2 = int(input(\"Second Number = \"))\n",
    "\n",
    "if opt == 1:\n",
    "    print(n1,' + ', n2, '  =  ', n1 +  n2)\n",
    "elif opt == 2:\n",
    "    print(n1,' - ', n2, '  =  ', n1 -  n2)\n",
    "elif opt == 3:\n",
    "    print(n1,' * ', n2, '  =  ', n1 *  n2)\n",
    "elif opt == 4:\n",
    "    print(n1,' / ', n2, '  =  ', n1 /  n2)\n",
    "else:\n",
    "    print('Invalid Input')"
   ]
  },
  {
   "cell_type": "code",
   "execution_count": null,
   "id": "85b53ec3",
   "metadata": {},
   "outputs": [],
   "source": []
  }
 ],
 "metadata": {
  "kernelspec": {
   "display_name": "Python 3 (ipykernel)",
   "language": "python",
   "name": "python3"
  },
  "language_info": {
   "codemirror_mode": {
    "name": "ipython",
    "version": 3
   },
   "file_extension": ".py",
   "mimetype": "text/x-python",
   "name": "python",
   "nbconvert_exporter": "python",
   "pygments_lexer": "ipython3",
   "version": "3.9.7"
  }
 },
 "nbformat": 4,
 "nbformat_minor": 5
}
